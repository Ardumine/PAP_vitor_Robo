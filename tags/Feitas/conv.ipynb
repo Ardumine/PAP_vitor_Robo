{
 "cells": [
  {
   "cell_type": "code",
   "execution_count": 1,
   "metadata": {},
   "outputs": [],
   "source": [
    "#Este script é para cortar as imagens com labels lixo\n"
   ]
  },
  {
   "cell_type": "code",
   "execution_count": 2,
   "metadata": {},
   "outputs": [],
   "source": [
    "import os\n",
    "from PIL import Image"
   ]
  },
  {
   "cell_type": "code",
   "execution_count": 3,
   "metadata": {},
   "outputs": [],
   "source": [
    "for cam_img in os.listdir(\".\"):\n",
    "    try:\n",
    "        \n",
    "        img_or = Image.open(cam_img)\n",
    "\n",
    "        width, height = img_or.size\n",
    "        \n",
    "        left = 0\n",
    "        top = 0\n",
    "        right = width\n",
    "        bottom =width\n",
    "\n",
    "        img_p = img_or.crop((left, top, right, bottom))\n",
    "        img_p.save(\"crop//\" + cam_img)\n",
    "    except:\n",
    "        pass"
   ]
  }
 ],
 "metadata": {
  "kernelspec": {
   "display_name": "Python 3",
   "language": "python",
   "name": "python3"
  },
  "language_info": {
   "codemirror_mode": {
    "name": "ipython",
    "version": 3
   },
   "file_extension": ".py",
   "mimetype": "text/x-python",
   "name": "python",
   "nbconvert_exporter": "python",
   "pygments_lexer": "ipython3",
   "version": "3.9.13"
  },
  "orig_nbformat": 4
 },
 "nbformat": 4,
 "nbformat_minor": 2
}
